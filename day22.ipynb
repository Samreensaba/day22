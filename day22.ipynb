{
 "cells": [
  {
   "cell_type": "code",
   "execution_count": null,
   "id": "beeef461-e1c7-48ab-b035-de53bb9ad331",
   "metadata": {},
   "outputs": [],
   "source": [
    "import random\n",
    "print(\"GUESS THE NUMBER\")\n",
    "print(\"Guess a number between 1 and 1,000,000 and i will tell if you are correct.\")\n",
    "print()\n",
    "print(\"Let's start\")\n",
    "correct_number = random.randint(1,1000000)\n",
    "guessCount = 1\n",
    "while True:\n",
    "  guess = int(input(\"Pick a number between 1 and 1,000,000: \"))\n",
    "  if guess < 0:\n",
    "    print(\"Good Bye!....\")\n",
    "    exit()\n",
    "  elif guess < correct_number:\n",
    "    print(\"You guessed too low, try again!\")\n",
    "    guessCount += 1\n",
    "  elif guess > correct_number:\n",
    "    print(\"You went too high\")\n",
    "    guessCount += 1\n",
    "    continue\n",
    "  elif guess == correct_number:\n",
    "    print(\"You got it in just \", guessCount, \"attempts, you are a winner!\")\n",
    "    break\n",
    "  else:\n",
    "    print(\"Thats not a number I recognize, try again!\")"
   ]
  }
 ],
 "metadata": {
  "kernelspec": {
   "display_name": "Python 3 (ipykernel)",
   "language": "python",
   "name": "python3"
  },
  "language_info": {
   "codemirror_mode": {
    "name": "ipython",
    "version": 3
   },
   "file_extension": ".py",
   "mimetype": "text/x-python",
   "name": "python",
   "nbconvert_exporter": "python",
   "pygments_lexer": "ipython3",
   "version": "3.12.4"
  }
 },
 "nbformat": 4,
 "nbformat_minor": 5
}
